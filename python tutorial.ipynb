{
 "cells": [
  {
   "cell_type": "markdown",
   "id": "identical-quick",
   "metadata": {
    "slideshow": {
     "slide_type": "-"
    }
   },
   "source": [
    "## What is python?\n",
    " - Python is an interpreted, high-level and general-purpose programming language\n",
    " - Python's design philosophy emphasizes code readability with its notable use of significant whitespace\n",
    " - Its language constructs and object-oriented approach aim to help programmers write clear, logical code for small and large-scale projects"
   ]
  },
  {
   "cell_type": "markdown",
   "id": "extensive-organ",
   "metadata": {},
   "source": [
    "## Uses of Python\n",
    "- Web and Internet Development\n",
    "- Scientific and Numeric\\\n",
    "- Education\n",
    "- Desktop GUIs\n",
    "- Software Development, Testing and DevOps\n",
    "- Business Applications like ERP"
   ]
  },
  {
   "cell_type": "markdown",
   "id": "hidden-window",
   "metadata": {},
   "source": [
    "## What is Anaconda?\n",
    " - Anaconda is a distribution of the Python and R programming languages for scientific computing\n",
    " - It aims to simplify package management and deployment\n",
    " - The distribution includes data-science packages suitable for Windows, Linux, and macOS"
   ]
  },
  {
   "cell_type": "markdown",
   "id": "geological-prior",
   "metadata": {},
   "source": [
    "## What is python program? How to execute python scripts?\n",
    " - Text File with set of instructions, file name with an extension .py\n",
    " - To run Python scripts with the python command, you need to open a command-line and type in the word python , or python3 if you have both versions, followed by the path to your script"
   ]
  },
  {
   "cell_type": "markdown",
   "id": "stuck-excitement",
   "metadata": {},
   "source": [
    "## What is Jupyter Notebook?\n",
    " - The Jupyter Notebook is an open-source interactive web application that allows you to create and share documents that contain live code, equations, visualizations and explanatory text\n",
    " - Uses include: data cleaning and transformation, numerical simulation, statistical modeling, machine learning and much more"
   ]
  },
  {
   "cell_type": "markdown",
   "id": "supported-fraud",
   "metadata": {},
   "source": [
    "## What is Virtual Environment? How to create one with a specific python version?\n",
    " - A virtual environment is a Python environment such that the Python interpreter, libraries and scripts installed into it are isolated from those installed in other virtual environments, and (by default) any libraries installed in a “system” Python, i.e., one which is installed as part of your operating system.\n",
    " - `conda create -n env_name python=3.6`\n",
    " - `conda activate env_name`\n",
    " - `jupyter notebook`\n",
    " - `conda deactivate`\n",
    " - `conda env list`"
   ]
  },
  {
   "cell_type": "markdown",
   "id": "innovative-florida",
   "metadata": {},
   "source": [
    "## What are python Packages? What is PIP and how to install packages?\n",
    " - pip is the package installer for Python\n",
    " - `pip freeze`\n",
    " - `conda list`\n",
    " - `conda install jupyter notebook`\n",
    " - `conda install pandas`\n",
    " - `pip install numpy`\n",
    " - `pip feeze > requirements.txt`\n",
    " - `pip install -r requirements.txt`"
   ]
  },
  {
   "cell_type": "markdown",
   "id": "defined-drill",
   "metadata": {},
   "source": [
    "## Python Data Types\n",
    "- Text Type:\tstr\n",
    "- Numeric Types:\tint, float, complex\n",
    "- Sequence Types:\tlist, tuple, range\n",
    "- Mapping Type:\tdict\n",
    "- Set Types:\tset\n",
    "- Boolean Type:\tbool\n",
    "- Binary Types:\tbytes, bytearray, memoryview"
   ]
  },
  {
   "cell_type": "markdown",
   "id": "median-northern",
   "metadata": {},
   "source": [
    "### Data Types Example and setting up the specific data types"
   ]
  },
  {
   "cell_type": "code",
   "execution_count": null,
   "id": "conservative-samuel",
   "metadata": {},
   "outputs": [],
   "source": [
    "x = \"Hello World\"\n",
    "type(x)"
   ]
  },
  {
   "cell_type": "code",
   "execution_count": null,
   "id": "portuguese-belgium",
   "metadata": {},
   "outputs": [],
   "source": [
    "x = str(\"Hello World\")"
   ]
  },
  {
   "cell_type": "code",
   "execution_count": null,
   "id": "better-buyer",
   "metadata": {},
   "outputs": [],
   "source": [
    "x = 5\n",
    "x = int(20)"
   ]
  },
  {
   "cell_type": "code",
   "execution_count": null,
   "id": "governing-yesterday",
   "metadata": {},
   "outputs": [],
   "source": [
    "x = 20.5\n",
    "x = float(20.5)"
   ]
  },
  {
   "cell_type": "code",
   "execution_count": null,
   "id": "molecular-gibson",
   "metadata": {},
   "outputs": [],
   "source": [
    "x = 1j\n",
    "x = complex(1j)"
   ]
  },
  {
   "cell_type": "code",
   "execution_count": null,
   "id": "arctic-harrison",
   "metadata": {},
   "outputs": [],
   "source": [
    "x = [\"apple\", \"banana\", \"cherry\"]\n",
    "x = list((\"apple\", \"banana\", \"cherry\"))"
   ]
  },
  {
   "cell_type": "code",
   "execution_count": null,
   "id": "norwegian-lebanon",
   "metadata": {},
   "outputs": [],
   "source": [
    "list1 = [\"abc\", 34, True, 40, \"male\"]"
   ]
  },
  {
   "cell_type": "code",
   "execution_count": null,
   "id": "foreign-exhaust",
   "metadata": {},
   "outputs": [],
   "source": [
    "list1[0] = \"xyz\"\n",
    "list1"
   ]
  },
  {
   "cell_type": "code",
   "execution_count": null,
   "id": "quick-engine",
   "metadata": {},
   "outputs": [],
   "source": [
    "x = (\"apple\", \"banana\", \"cherry\")\n",
    "x = tuple((\"apple\", \"banana\", \"cherry\"))"
   ]
  },
  {
   "cell_type": "code",
   "execution_count": null,
   "id": "processed-nickel",
   "metadata": {},
   "outputs": [],
   "source": [
    "x[0] = \"pineapple\"\n",
    "x"
   ]
  },
  {
   "cell_type": "code",
   "execution_count": null,
   "id": "industrial-matthew",
   "metadata": {},
   "outputs": [],
   "source": [
    "x = range(6)"
   ]
  },
  {
   "cell_type": "code",
   "execution_count": null,
   "id": "joint-royalty",
   "metadata": {},
   "outputs": [],
   "source": [
    "x = {\"name\" : \"John\", \"age\" : 36}\n",
    "x = dict(name=\"John\", age=36)"
   ]
  },
  {
   "cell_type": "code",
   "execution_count": null,
   "id": "pacific-tragedy",
   "metadata": {},
   "outputs": [],
   "source": [
    "x = {\"apple\", \"banana\", \"cherry\"}\n",
    "x = set((\"apple\", \"banana\", \"cherry\"))"
   ]
  },
  {
   "cell_type": "code",
   "execution_count": null,
   "id": "brown-morris",
   "metadata": {},
   "outputs": [],
   "source": [
    "x = True\n",
    "type(x)\n",
    "x = bool(5)\n",
    "x"
   ]
  },
  {
   "cell_type": "code",
   "execution_count": null,
   "id": "diverse-looking",
   "metadata": {},
   "outputs": [],
   "source": [
    "x = b\"Hello\"\n",
    "type(x)"
   ]
  },
  {
   "cell_type": "code",
   "execution_count": null,
   "id": "behind-probe",
   "metadata": {},
   "outputs": [],
   "source": [
    "x = bytearray(5)"
   ]
  },
  {
   "cell_type": "code",
   "execution_count": null,
   "id": "considerable-petite",
   "metadata": {},
   "outputs": [],
   "source": [
    "x = memoryview(bytes(5))"
   ]
  },
  {
   "cell_type": "markdown",
   "id": "minor-documentary",
   "metadata": {},
   "source": [
    "### Data Types conversion - Type casting"
   ]
  },
  {
   "cell_type": "code",
   "execution_count": null,
   "id": "noble-subscriber",
   "metadata": {},
   "outputs": [],
   "source": [
    "y = int(2.8)\n",
    "y"
   ]
  },
  {
   "cell_type": "code",
   "execution_count": null,
   "id": "specified-comedy",
   "metadata": {},
   "outputs": [],
   "source": [
    "z = int(\"3\")"
   ]
  },
  {
   "cell_type": "code",
   "execution_count": null,
   "id": "every-flower",
   "metadata": {},
   "outputs": [],
   "source": [
    "z = str(3.0)\n",
    "z"
   ]
  },
  {
   "cell_type": "code",
   "execution_count": null,
   "id": "latter-shoot",
   "metadata": {},
   "outputs": [],
   "source": [
    "x = [\"apple\", \"banana\", \"cherry\"]\n",
    "y = tuple(x)\n",
    "type(y)\n",
    "z = set(x) # Quick Method to remove duplicates\n",
    "type(z)"
   ]
  },
  {
   "cell_type": "code",
   "execution_count": null,
   "id": "billion-matrix",
   "metadata": {},
   "outputs": [],
   "source": [
    "# Iterating through string or list\n",
    "a = \"Hello, World!\"\n",
    "print(a[1])\n"
   ]
  },
  {
   "cell_type": "code",
   "execution_count": null,
   "id": "designed-hindu",
   "metadata": {},
   "outputs": [],
   "source": [
    "for x in \"banana\":\n",
    "  print(x)"
   ]
  },
  {
   "cell_type": "code",
   "execution_count": null,
   "id": "fitting-reconstruction",
   "metadata": {},
   "outputs": [],
   "source": [
    "x = [\"apple\", \"banana\", \"cherry\"]\n",
    "for items in x:\n",
    "    print(items)"
   ]
  },
  {
   "cell_type": "code",
   "execution_count": null,
   "id": "introductory-lodge",
   "metadata": {},
   "outputs": [],
   "source": []
  },
  {
   "cell_type": "code",
   "execution_count": null,
   "id": "alpha-hello",
   "metadata": {},
   "outputs": [],
   "source": []
  },
  {
   "cell_type": "markdown",
   "id": "continued-speaker",
   "metadata": {},
   "source": [
    "### Basic Operations"
   ]
  },
  {
   "attachments": {
    "image.png": {
     "image/png": "[encoded data removed]"
    }
   },
   "cell_type": "markdown",
   "id": "liquid-blocking",
   "metadata": {},
   "source": [
    "![image.png](attachment:image.png)"
   ]
  },
  {
   "cell_type": "markdown",
   "id": "collectible-newman",
   "metadata": {},
   "source": [
    "### Complex Data Types (Dictionary, DefaultDict)"
   ]
  },
  {
   "cell_type": "code",
   "execution_count": null,
   "id": "fundamental-florida",
   "metadata": {},
   "outputs": [],
   "source": []
  },
  {
   "cell_type": "markdown",
   "id": "unsigned-briefs",
   "metadata": {},
   "source": [
    "### Dictionary Usage"
   ]
  },
  {
   "cell_type": "code",
   "execution_count": null,
   "id": "gentle-biodiversity",
   "metadata": {},
   "outputs": [],
   "source": [
    "thisdict = {\n",
    "  \"brand\": \"Ford\",\n",
    "  \"model\": \"Mustang\",\n",
    "  \"year\": 1964\n",
    "}\n",
    "x = thisdict[\"model\"]"
   ]
  },
  {
   "cell_type": "code",
   "execution_count": null,
   "id": "acknowledged-roads",
   "metadata": {},
   "outputs": [],
   "source": [
    "x = thisdict.get(\"model\", 0)\n",
    "x"
   ]
  },
  {
   "cell_type": "code",
   "execution_count": null,
   "id": "standard-submission",
   "metadata": {},
   "outputs": [],
   "source": [
    "x = thisdict.keys()"
   ]
  },
  {
   "cell_type": "code",
   "execution_count": null,
   "id": "active-pension",
   "metadata": {},
   "outputs": [],
   "source": [
    "thisdict[\"brand\"] = \"Honda\"\n",
    "thisdict"
   ]
  },
  {
   "cell_type": "code",
   "execution_count": null,
   "id": "arbitrary-cocktail",
   "metadata": {},
   "outputs": [],
   "source": [
    "x = thisdict.values()"
   ]
  },
  {
   "cell_type": "code",
   "execution_count": null,
   "id": "presidential-symbol",
   "metadata": {},
   "outputs": [],
   "source": [
    "x = thisdict.items()\n",
    "x"
   ]
  },
  {
   "cell_type": "code",
   "execution_count": null,
   "id": "multiple-latex",
   "metadata": {},
   "outputs": [],
   "source": [
    "for x, y in thisdict.items():\n",
    "  print(x, y)"
   ]
  },
  {
   "cell_type": "code",
   "execution_count": null,
   "id": "lesser-venture",
   "metadata": {},
   "outputs": [],
   "source": [
    "# Remove the k, v from Dictionary\n",
    "thisdict.pop(\"model\")"
   ]
  },
  {
   "cell_type": "code",
   "execution_count": null,
   "id": "ahead-horizon",
   "metadata": {},
   "outputs": [],
   "source": [
    "thisdict"
   ]
  },
  {
   "cell_type": "code",
   "execution_count": null,
   "id": "joint-index",
   "metadata": {},
   "outputs": [],
   "source": [
    "myfamily = {\n",
    "  \"child1\" : {\n",
    "    \"name\" : \"Emil\",\n",
    "    \"year\" : 2004\n",
    "  },\n",
    "  \"child2\" : {\n",
    "    \"name\" : \"Tobias\",\n",
    "    \"year\" : 2007\n",
    "  },\n",
    "  \"child3\" : {\n",
    "    \"name\" : \"Linus\",\n",
    "    \"year\" : 2011\n",
    "  }\n",
    "}"
   ]
  },
  {
   "cell_type": "markdown",
   "id": "organized-contact",
   "metadata": {},
   "source": [
    "### Conditional Statements"
   ]
  },
  {
   "cell_type": "code",
   "execution_count": null,
   "id": "cathedral-perception",
   "metadata": {},
   "outputs": [],
   "source": [
    "a = 200\n",
    "b = 33\n",
    "if b > a:\n",
    "  print(\"b is greater than a\")\n",
    "elif a == b:\n",
    "  print(\"a and b are equal\")\n",
    "else:\n",
    "  print(\"a is greater than b\")"
   ]
  },
  {
   "cell_type": "code",
   "execution_count": null,
   "id": "armed-drinking",
   "metadata": {},
   "outputs": [],
   "source": [
    "i = 1\n",
    "while i < 6:\n",
    "  print(i)\n",
    "  i += 1"
   ]
  },
  {
   "cell_type": "code",
   "execution_count": null,
   "id": "convertible-contest",
   "metadata": {},
   "outputs": [],
   "source": [
    "i = 1\n",
    "while i < 6:\n",
    "  print(i)\n",
    "  if i == 3:\n",
    "    break\n",
    "  i += 1"
   ]
  },
  {
   "cell_type": "code",
   "execution_count": null,
   "id": "environmental-circle",
   "metadata": {},
   "outputs": [],
   "source": [
    "i = 0\n",
    "while i < 6:\n",
    "  i += 1\n",
    "  if i == 3:\n",
    "    continue\n",
    "  print(i)"
   ]
  },
  {
   "cell_type": "code",
   "execution_count": null,
   "id": "affecting-retail",
   "metadata": {},
   "outputs": [],
   "source": [
    "i = 1\n",
    "while i < 6:\n",
    "  print(i)\n",
    "  i += 1\n",
    "else:\n",
    "  print(\"i is no longer less than 6\")"
   ]
  },
  {
   "cell_type": "code",
   "execution_count": null,
   "id": "rolled-jesus",
   "metadata": {},
   "outputs": [],
   "source": [
    "fruits = [\"apple\", \"banana\", \"cherry\"]\n",
    "for x in fruits:\n",
    "  print(x)"
   ]
  },
  {
   "cell_type": "code",
   "execution_count": null,
   "id": "loved-victorian",
   "metadata": {},
   "outputs": [],
   "source": []
  },
  {
   "cell_type": "markdown",
   "id": "asian-pottery",
   "metadata": {},
   "source": [
    "### Python Function and Methods"
   ]
  },
  {
   "cell_type": "code",
   "execution_count": null,
   "id": "criminal-plate",
   "metadata": {},
   "outputs": [],
   "source": [
    "def my_function():\n",
    "    print(\"Hello from a function\")"
   ]
  },
  {
   "cell_type": "code",
   "execution_count": null,
   "id": "tropical-bargain",
   "metadata": {},
   "outputs": [],
   "source": [
    "my_function()"
   ]
  },
  {
   "cell_type": "code",
   "execution_count": null,
   "id": "disabled-hepatitis",
   "metadata": {},
   "outputs": [],
   "source": [
    "def my_function(fname):\n",
    "    print(\" Hello from \" + fname)"
   ]
  },
  {
   "cell_type": "code",
   "execution_count": null,
   "id": "plain-generic",
   "metadata": {},
   "outputs": [],
   "source": [
    "my_function(\"Pratik\")"
   ]
  },
  {
   "cell_type": "code",
   "execution_count": null,
   "id": "settled-granny",
   "metadata": {},
   "outputs": [],
   "source": [
    "x = lambda a, b, c : a + b + c\n",
    "print(x(5, 6, 2))"
   ]
  },
  {
   "cell_type": "code",
   "execution_count": null,
   "id": "recent-cathedral",
   "metadata": {},
   "outputs": [],
   "source": [
    "class Person:\n",
    "    def __init__(self, name, age):\n",
    "        self.name = name\n",
    "        self.age = age\n",
    "    \n",
    "    def myfunc(self):\n",
    "        print(\"Hello my name is \" + self.name)\n",
    "\n",
    "p1 = Person(\"John\", 36)\n",
    "\n",
    "print(p1.name)\n",
    "print(p1.age)\n",
    "#print(p1.myfunc())"
   ]
  },
  {
   "cell_type": "markdown",
   "id": "southern-input",
   "metadata": {},
   "source": [
    "### datetime objects"
   ]
  },
  {
   "cell_type": "code",
   "execution_count": null,
   "id": "amended-craps",
   "metadata": {},
   "outputs": [],
   "source": [
    "import datetime\n",
    "\n",
    "x = datetime.datetime(2020, 5, 17)\n",
    "\n",
    "print(x)"
   ]
  },
  {
   "cell_type": "code",
   "execution_count": null,
   "id": "ambient-album",
   "metadata": {},
   "outputs": [],
   "source": [
    "x = datetime.datetime(2018, 6, 1)\n",
    "\n",
    "print(x.strftime(\"%B\"))"
   ]
  },
  {
   "cell_type": "markdown",
   "id": "connected-greeting",
   "metadata": {},
   "source": [
    "-------------------------------------------------------------------------------------------------------------------------------"
   ]
  },
  {
   "cell_type": "markdown",
   "id": "lightweight-entertainment",
   "metadata": {},
   "source": [
    "## Python for Data Science"
   ]
  },
  {
   "cell_type": "markdown",
   "id": "excited-stanley",
   "metadata": {},
   "source": [
    "### Numpy Array"
   ]
  },
  {
   "cell_type": "code",
   "execution_count": null,
   "id": "agricultural-circulation",
   "metadata": {},
   "outputs": [],
   "source": [
    "!pip install numpy"
   ]
  },
  {
   "cell_type": "code",
   "execution_count": null,
   "id": "described-examination",
   "metadata": {},
   "outputs": [],
   "source": [
    "import numpy as np\n",
    "\n",
    "arr = np.array([1, 2, 3, 4, 5])\n",
    "\n",
    "print(arr)\n",
    "\n",
    "print(type(arr))"
   ]
  },
  {
   "cell_type": "code",
   "execution_count": null,
   "id": "legendary-wilson",
   "metadata": {},
   "outputs": [],
   "source": [
    "arr.sum()"
   ]
  },
  {
   "cell_type": "code",
   "execution_count": null,
   "id": "collective-electricity",
   "metadata": {},
   "outputs": [],
   "source": [
    "import numpy as np\n",
    "\n",
    "arr = np.array([[1, 2, 3], [4, 5, 6]])\n",
    "\n",
    "print(arr)\n"
   ]
  },
  {
   "cell_type": "code",
   "execution_count": null,
   "id": "hidden-partition",
   "metadata": {},
   "outputs": [],
   "source": [
    "arr.sum(axis=0) #Sum across all the rows"
   ]
  },
  {
   "cell_type": "markdown",
   "id": "allied-variable",
   "metadata": {},
   "source": [
    "### Pandas DataFrame"
   ]
  },
  {
   "cell_type": "code",
   "execution_count": null,
   "id": "honey-explosion",
   "metadata": {},
   "outputs": [],
   "source": [
    "!pip install pandas"
   ]
  },
  {
   "cell_type": "code",
   "execution_count": null,
   "id": "requested-chicago",
   "metadata": {},
   "outputs": [],
   "source": [
    "import pandas as pd\n"
   ]
  },
  {
   "cell_type": "code",
   "execution_count": null,
   "id": "right-journalism",
   "metadata": {},
   "outputs": [],
   "source": [
    "a = [1, 7, 2]\n",
    "arr = np.array([1, 2, 3, 4, 5])\n",
    "myvar = pd.Series(a, index = [\"x\", \"y\", \"z\"])\n",
    "myvar = pd.Series(a)\n",
    "\n",
    "myvar"
   ]
  },
  {
   "cell_type": "code",
   "execution_count": null,
   "id": "pressed-relief",
   "metadata": {},
   "outputs": [],
   "source": [
    "calories = {\"day1\": 420, \"day2\": 380, \"day3\": 390}\n",
    "\n",
    "myvar = pd.Series(calories)\n",
    "\n",
    "myvar"
   ]
  },
  {
   "cell_type": "code",
   "execution_count": null,
   "id": "occupational-briefing",
   "metadata": {},
   "outputs": [],
   "source": [
    "arr = np.array([[1, 2, 3], [4, 5, 6]])\n",
    "myvar = pd.DataFrame(arr)\n",
    "myvar"
   ]
  },
  {
   "cell_type": "code",
   "execution_count": null,
   "id": "correct-model",
   "metadata": {},
   "outputs": [],
   "source": [
    "mydataset = {\n",
    "  'cars': [\"BMW\", \"Volvo\", \"Ford\"],\n",
    "  'passings': [3, 7, 2]\n",
    "}\n",
    "\n",
    "myvar = pd.DataFrame(mydataset)\n",
    "myvar"
   ]
  },
  {
   "cell_type": "code",
   "execution_count": null,
   "id": "through-quarter",
   "metadata": {},
   "outputs": [],
   "source": [
    "# Reading from CSV file\n",
    "# Data Source - https://www.w3schools.com/python/data.csv\n",
    "df = pd.read_csv('data.csv')"
   ]
  },
  {
   "cell_type": "code",
   "execution_count": null,
   "id": "plain-manchester",
   "metadata": {},
   "outputs": [],
   "source": [
    "df.head()"
   ]
  },
  {
   "cell_type": "code",
   "execution_count": null,
   "id": "finnish-newspaper",
   "metadata": {},
   "outputs": [],
   "source": [
    "df.shape"
   ]
  },
  {
   "cell_type": "markdown",
   "id": "naughty-column",
   "metadata": {},
   "source": [
    "### Basic Visualizations with Matplotlib"
   ]
  },
  {
   "cell_type": "code",
   "execution_count": null,
   "id": "median-tanzania",
   "metadata": {},
   "outputs": [],
   "source": [
    "!pip install matplotlib"
   ]
  },
  {
   "cell_type": "code",
   "execution_count": null,
   "id": "horizontal-village",
   "metadata": {},
   "outputs": [],
   "source": [
    "import matplotlib.pyplot as plt"
   ]
  },
  {
   "cell_type": "code",
   "execution_count": null,
   "id": "preceding-packaging",
   "metadata": {},
   "outputs": [],
   "source": [
    "df.plot()\n",
    "plt.show()"
   ]
  },
  {
   "cell_type": "code",
   "execution_count": null,
   "id": "female-tuning",
   "metadata": {},
   "outputs": [],
   "source": [
    "df.plot(kind = 'scatter', x = 'Duration', y = 'Calories')\n",
    "plt.show()"
   ]
  },
  {
   "cell_type": "code",
   "execution_count": null,
   "id": "prime-complaint",
   "metadata": {},
   "outputs": [],
   "source": [
    "df[\"Duration\"].plot(kind = 'hist')"
   ]
  },
  {
   "cell_type": "code",
   "execution_count": null,
   "id": "normal-upgrade",
   "metadata": {},
   "outputs": [],
   "source": [
    "import matplotlib.pyplot as plt\n",
    "import numpy as np\n",
    "\n",
    "xpoints = np.array([0, 6])\n",
    "ypoints = np.array([0, 250])\n",
    "\n",
    "plt.plot(xpoints, ypoints)\n",
    "plt.show()"
   ]
  },
  {
   "cell_type": "code",
   "execution_count": null,
   "id": "stupid-arbitration",
   "metadata": {},
   "outputs": [],
   "source": [
    "x = np.array([80, 85, 90, 95, 100, 105, 110, 115, 120, 125])\n",
    "y = np.array([240, 250, 260, 270, 280, 290, 300, 310, 320, 330])\n",
    "\n",
    "plt.title(\"Sports Watch Data\")\n",
    "plt.xlabel(\"Average Pulse\")\n",
    "plt.ylabel(\"Calorie Burnage\")\n",
    "\n",
    "plt.plot(x, y)\n",
    "\n",
    "plt.grid()\n",
    "\n",
    "plt.show()"
   ]
  },
  {
   "cell_type": "code",
   "execution_count": null,
   "id": "medium-lindsay",
   "metadata": {},
   "outputs": [],
   "source": [
    "y = np.array([35, 25, 25, 15])\n",
    "mylabels = [\"Apples\", \"Bananas\", \"Cherries\", \"Dates\"]\n",
    "\n",
    "plt.pie(y, labels = mylabels)\n",
    "plt.show() "
   ]
  },
  {
   "cell_type": "markdown",
   "id": "personal-poland",
   "metadata": {},
   "source": [
    "## Reference\n",
    "- https://github.com/Akuli/python-tutorial/tree/master/basics"
   ]
  },
  {
   "cell_type": "code",
   "execution_count": null,
   "id": "adequate-atmosphere",
   "metadata": {},
   "outputs": [],
   "source": []
  }
 ],
 "metadata": {
  "kernelspec": {
   "display_name": "Python 3",
   "language": "python",
   "name": "python3"
  },
  "language_info": {
   "codemirror_mode": {
    "name": "ipython",
    "version": 3
   },
   "file_extension": ".py",
   "mimetype": "text/x-python",
   "name": "python",
   "nbconvert_exporter": "python",
   "pygments_lexer": "ipython3",
   "version": "3.6.12"
  }
 },
 "nbformat": 4,
 "nbformat_minor": 5
}
